{
 "cells": [
  {
   "cell_type": "markdown",
   "id": "0288dda1",
   "metadata": {},
   "source": [
    "# Binary Search \n",
    "\n",
    "efficiency = O(log n)"
   ]
  },
  {
   "cell_type": "markdown",
   "id": "62f8db27",
   "metadata": {},
   "source": [
    "## Binary Search Practice"
   ]
  },
  {
   "cell_type": "code",
   "execution_count": 18,
   "id": "7c7f3667",
   "metadata": {},
   "outputs": [
    {
     "name": "stdout",
     "output_type": "stream",
     "text": [
      "0 6 3 11 25 [1, 3, 9, 11, 15, 19, 29]\n",
      "4 6 1 19 25 [15, 19, 29]\n",
      "6 6 0 29 25 [29]\n",
      "-1\n",
      "0 6 3 11 15 [1, 3, 9, 11, 15, 19, 29]\n",
      "4 6 1 19 15 [15, 19, 29]\n",
      "4 5 0 15 15 [15]\n",
      "4\n"
     ]
    }
   ],
   "source": [
    "\"\"\"You're going to write a binary search function.\n",
    "You should use an iterative approach - meaning\n",
    "using loops.\n",
    "Your function should take two inputs:\n",
    "a Python list to search through, and the value\n",
    "you're searching for.\n",
    "Assume the list only has distinct elements,\n",
    "meaning there are no repeated values, and \n",
    "elements are in a strictly increasing order.\n",
    "Return the index of value, or -1 if the value\n",
    "doesn't exist in the list.\"\"\"\n",
    "\n",
    "def binary_search(input_array, value):\n",
    "    \"\"\"Your code goes here.\"\"\"\n",
    "    \n",
    "    i = 0\n",
    "    j = len(input_array)-1\n",
    "    temp_array = input_array\n",
    "    \n",
    "    while len(temp_array) > 0:\n",
    "        \n",
    "        middle_index = int(len(temp_array)/2)\n",
    "        middle_index_value = temp_array[middle_index]\n",
    "        \n",
    "        if value == middle_index_value:\n",
    "            if len(temp_array) % 2 == 0:\n",
    "                return i+middle_index-1\n",
    "            else:\n",
    "                return i+middle_index\n",
    "            return middle_index\n",
    "        elif value < middle_index_value:\n",
    "            j = j-middle_index\n",
    "            temp_array = input_array[i:j]\n",
    "        elif value > middle_index_value:\n",
    "            i = i+middle_index+1\n",
    "            temp_array = input_array[i:j+1]\n",
    "\n",
    "    return -1\n",
    "\n",
    "test_list = [1,3,9,11,15,19,29]\n",
    "test_val1 = 25\n",
    "test_val2 = 15\n",
    "print(binary_search(test_list, test_val1))\n",
    "print(binary_search(test_list, test_val2))"
   ]
  },
  {
   "cell_type": "markdown",
   "id": "415bed4e",
   "metadata": {},
   "source": [
    "### Efficient solution"
   ]
  },
  {
   "cell_type": "code",
   "execution_count": 20,
   "id": "de89c1d9",
   "metadata": {},
   "outputs": [
    {
     "name": "stdout",
     "output_type": "stream",
     "text": [
      "-1\n",
      "4\n"
     ]
    }
   ],
   "source": [
    "\"\"\"You're going to write a binary search function.\n",
    "You should use an iterative approach - meaning\n",
    "using loops.\n",
    "Your function should take two inputs:\n",
    "a Python list to search through, and the value\n",
    "you're searching for.\n",
    "Assume the list only has distinct elements,\n",
    "meaning there are no repeated values, and \n",
    "elements are in a strictly increasing order.\n",
    "Return the index of value, or -1 if the value\n",
    "doesn't exist in the list.\"\"\"\n",
    "\n",
    "def binary_search(input_array, value):\n",
    "    \"\"\"Your code goes here.\"\"\"\n",
    "    \n",
    "    i = 0\n",
    "    j = len(input_array)-1\n",
    "    \n",
    "    while i<j:\n",
    "        \n",
    "        mid = int((i+j)/2)\n",
    "        \n",
    "        if input_array[mid] == value:\n",
    "            return mid\n",
    "        elif input_array[mid] > value:\n",
    "            j -= mid\n",
    "        else:\n",
    "            i += mid\n",
    "    return -1\n",
    "\n",
    "test_list = [1,3,9,11,15,19,29]\n",
    "test_val1 = 25\n",
    "test_val2 = 15\n",
    "print(binary_search(test_list, test_val1))\n",
    "print(binary_search(test_list, test_val2))"
   ]
  },
  {
   "cell_type": "markdown",
   "id": "95fec8be",
   "metadata": {},
   "source": [
    "# Recursion\n",
    "\n",
    "Function that calls itself.\n",
    "\n",
    "Conditions:\n",
    "    1. Should call itself at sometime\n",
    "    2. Should have a base case(exit condition) else, 'Infinite Recursion'\n",
    "    3. Alter the input parameters"
   ]
  },
  {
   "cell_type": "markdown",
   "id": "5fd0f6da",
   "metadata": {},
   "source": [
    "## Recursion Practice"
   ]
  },
  {
   "cell_type": "code",
   "execution_count": 2,
   "id": "9f4f71d6",
   "metadata": {},
   "outputs": [],
   "source": [
    "# Fibinacci sequence without Recursion in JavaScript\n",
    "function getFib(position) {\n",
    "  if (position == 0) { return 0; }\n",
    "  if (position == 1) { return 1; }\n",
    "  var first = 0,\n",
    "      second = 1,\n",
    "      next = first + second;\n",
    "  for (var i = 2; i < position; i++) {\n",
    "    first = second;\n",
    "    second = next;\n",
    "    next = first + second;\n",
    "  }\n",
    "  return next;\n",
    "}"
   ]
  },
  {
   "cell_type": "code",
   "execution_count": 5,
   "id": "6281c6c3",
   "metadata": {},
   "outputs": [
    {
     "name": "stdout",
     "output_type": "stream",
     "text": [
      "34\n",
      "89\n",
      "0\n"
     ]
    }
   ],
   "source": [
    "## Fibonacci sequence using Recursion\n",
    "\n",
    "\"\"\"Implement a function recursively to get the desired\n",
    "Fibonacci sequence value.\n",
    "Your code should have the same input/output as the \n",
    "iterative code in the instructions.\"\"\"\n",
    "\n",
    "def get_fib(position):\n",
    "    \n",
    "    if position == 1 or position == 0:\n",
    "        return position\n",
    "    else:\n",
    "        return get_fib(position-1) + get_fib(position-2)     \n",
    "                \n",
    "    return -1\n",
    "\n",
    "# Test cases\n",
    "print(get_fib(9))\n",
    "print(get_fib(11))\n",
    "print(get_fib(0))\n"
   ]
  },
  {
   "cell_type": "markdown",
   "id": "6a1ad28d",
   "metadata": {},
   "source": [
    "# Bubble Sort [Naive Approach]\n",
    "\n",
    "\n",
    "If 1st element is greater than the second one, switch them.\n",
    "At each iteration, the largest element will reach the end.\n",
    "\n",
    "### Efficiency of Bubble sort:\n",
    "\n",
    "If n = 5,\n",
    "\n",
    "Time Complexity = Iteration * Comparison = (n-1)(n-1) = n^2 - 2n + 1\n",
    "\n",
    "#### Worst Case = O(n2)\n",
    "Average Case = O(n2)\n",
    "Best Case = O(n), when the array is already sorted / only one element is present in the array\n",
    "\n",
    "Space Complexity = O(1), because of Inplace Sorting with no extra array or Data Structure."
   ]
  },
  {
   "cell_type": "markdown",
   "id": "957fc745",
   "metadata": {},
   "source": [
    "## Bubble sort practise"
   ]
  },
  {
   "cell_type": "code",
   "execution_count": 40,
   "id": "885b6050",
   "metadata": {},
   "outputs": [
    {
     "name": "stdout",
     "output_type": "stream",
     "text": [
      "Given array is [12, 11, 13, 5, 6, 7]\n",
      "Sorted array is:  [5, 6, 7, 11, 12, 13]\n"
     ]
    }
   ],
   "source": [
    "def bubble_sort(array):\n",
    "    for i in range(len(array)):\n",
    "        for j in range(i+1, len(array)):\n",
    "            if array[i] > array[j]:\n",
    "                temp = array[i]\n",
    "                array[i] = array[j]\n",
    "                array[j] = temp\n",
    "    return array\n",
    "\n",
    "arr = [12, 11, 13, 5, 6, 7]\n",
    "print(\"Given array is\", arr)\n",
    "print(\"Sorted array is: \", bubble_sort(arr))"
   ]
  },
  {
   "cell_type": "markdown",
   "id": "4ff1aec9",
   "metadata": {},
   "source": [
    "# Merge Sort [Divide and Conquer Technique]\n",
    "\n",
    "n-1 comparisons in an array of size n, but iterations are approximately log n\n",
    "\n",
    "#### Time Complexity = nlogn\n",
    "Space Complexity is higher than bubble sort bcoz of the new arrays\n",
    "\n",
    "#### Extra Space/ Auxillary space = O(n)"
   ]
  },
  {
   "cell_type": "markdown",
   "id": "eba38e43",
   "metadata": {},
   "source": [
    "## Merge Sort Practise"
   ]
  },
  {
   "cell_type": "code",
   "execution_count": 37,
   "id": "54df03df",
   "metadata": {},
   "outputs": [
    {
     "name": "stdout",
     "output_type": "stream",
     "text": [
      "Given array is\n",
      "12 11 13 5 6 7 \n",
      "Sorted array is: \n",
      "5 6 7 11 12 13 \n"
     ]
    }
   ],
   "source": [
    "# Python program for implementation of MergeSort\n",
    "def mergeSort(arr):\n",
    "    if len(arr) > 1:\n",
    " \n",
    "         # Finding the mid of the array\n",
    "        mid = len(arr)//2\n",
    " \n",
    "        # Dividing the array elements\n",
    "        L = arr[:mid]\n",
    " \n",
    "        # into 2 halves\n",
    "        R = arr[mid:]\n",
    " \n",
    "        # Sorting the first half\n",
    "        mergeSort(L)\n",
    " \n",
    "        # Sorting the second half\n",
    "        mergeSort(R)\n",
    " \n",
    "        i = j = k = 0\n",
    " \n",
    "        # Copy data to temp arrays L[] and R[]\n",
    "        while i < len(L) and j < len(R):\n",
    "            if L[i] < R[j]:\n",
    "                arr[k] = L[i]\n",
    "                i += 1\n",
    "            else:\n",
    "                arr[k] = R[j]\n",
    "                j += 1\n",
    "            k += 1\n",
    " \n",
    "        # Checking if any element was left\n",
    "        while i < len(L):\n",
    "            arr[k] = L[i]\n",
    "            i += 1\n",
    "            k += 1\n",
    " \n",
    "        while j < len(R):\n",
    "            arr[k] = R[j]\n",
    "            j += 1\n",
    "            k += 1\n",
    " \n",
    " \n",
    "def printList(arr):\n",
    "    for i in range(len(arr)):\n",
    "        print(arr[i], end=\" \")\n",
    "    print()\n",
    " \n",
    " \n",
    "# Driver Code\n",
    "if __name__ == '__main__':\n",
    "    arr = [12, 11, 13, 5, 6, 7]\n",
    "    print(\"Given array is\", end=\"\\n\")\n",
    "    printList(arr)\n",
    "    mergeSort(arr)\n",
    "    print(\"Sorted array is: \", end=\"\\n\")\n",
    "    printList(arr)"
   ]
  },
  {
   "cell_type": "markdown",
   "id": "862d223c",
   "metadata": {},
   "source": [
    "# Quick Sort [Divide and Conquer]\n",
    "\n",
    "1. Choose a random element of array as pivot\n",
    "2. Move the values greater than the pivot element above it\n",
    "2. Move the values lesser than the pivot element below it\n",
    "\n",
    "### Efficiency\n",
    "Time complexity\n",
    "\n",
    "    Best and Avg case = O(nlogn)\n",
    "    Worst case = O(n2)\n",
    "    \n",
    "\n",
    "Space Complexity\n",
    "     O(1) - Inplace sorting"
   ]
  },
  {
   "cell_type": "markdown",
   "id": "bb20e613",
   "metadata": {},
   "source": [
    "## Quick Sort Practise"
   ]
  },
  {
   "cell_type": "code",
   "execution_count": 35,
   "id": "dfde4775",
   "metadata": {},
   "outputs": [
    {
     "name": "stdout",
     "output_type": "stream",
     "text": [
      "[1, 3, 4, 6, 9, 14, 20, 21, 21, 25]\n"
     ]
    }
   ],
   "source": [
    "\"\"\"Implement quick sort in Python.\n",
    "Input a list.\n",
    "Output a sorted list.\"\"\"\n",
    "\n",
    "def partition(a, p, r):\n",
    "    x = a[r]\n",
    "    i = p-1\n",
    "    if p < r:\n",
    "        for j in range(p, r):\n",
    "            if a[j] < x:\n",
    "                i += 1\n",
    "                temp = a[i]\n",
    "                a[i] = a[j]\n",
    "                a[j] = temp\n",
    "        temp = a[i+1]\n",
    "        a[i+1] = a[r]\n",
    "        a[r] = temp\n",
    "        return i+1\n",
    "    \n",
    "def quick_sort(test, p, r):\n",
    "    \n",
    "    if p<r:\n",
    "        q = partition(test, p, r)\n",
    "        quicksort(test, p, q-1)\n",
    "        quicksort(test, q+1, r)\n",
    "        \n",
    "    return test\n",
    "\n",
    "test = [21, 4, 1, 3, 9, 20, 25, 6, 21, 14]\n",
    "print(quicksort(test, 0, 9))"
   ]
  },
  {
   "cell_type": "code",
   "execution_count": null,
   "id": "7ed6b67a",
   "metadata": {},
   "outputs": [],
   "source": [
    "\"\"\"Implement quick sort in Python.\n",
    "Input a list.\n",
    "Output a sorted list.\"\"\"\n",
    "\n",
    "def partition(a, p, r):\n",
    "    print(a, p, r)\n",
    "    x = a[r]\n",
    "    i = p-1\n",
    "    if p < r:\n",
    "        for j in range(p, r):\n",
    "    #         print(\"i = \", i, \", j = \", j, \", array = \", a)\n",
    "            if a[j] < x:\n",
    "                i += 1\n",
    "                temp = a[i]\n",
    "                a[i] = a[j]\n",
    "                a[j] = temp\n",
    "                print(\"i = \", i, \", j = \", j,  \"j-value = \", a[j], \", pivot = \", a[r],   \", array = \", a)\n",
    "        temp = a[i+1]\n",
    "        a[i+1] = a[r]\n",
    "        a[r] = temp\n",
    "        return i+1\n",
    "    \n",
    "def quicksort(test, p, r):\n",
    "    \n",
    "    if p<r:\n",
    "        q = partition(test, p, r)\n",
    "#         print(q, test)\n",
    "        quicksort(test, p, q-1)\n",
    "        quicksort(test, q+1, r)\n",
    "        \n",
    "    return test\n",
    "\n",
    "test = [21, 4, 1, 3, 9, 20, 25, 6, 21, 14]\n",
    "print(quicksort(test, 0, 9))"
   ]
  }
 ],
 "metadata": {
  "kernelspec": {
   "display_name": "Python 3",
   "language": "python",
   "name": "python3"
  },
  "language_info": {
   "codemirror_mode": {
    "name": "ipython",
    "version": 3
   },
   "file_extension": ".py",
   "mimetype": "text/x-python",
   "name": "python",
   "nbconvert_exporter": "python",
   "pygments_lexer": "ipython3",
   "version": "3.9.4"
  }
 },
 "nbformat": 4,
 "nbformat_minor": 5
}
