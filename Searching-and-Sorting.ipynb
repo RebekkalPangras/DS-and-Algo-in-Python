{
 "cells": [
  {
   "cell_type": "markdown",
   "id": "0288dda1",
   "metadata": {},
   "source": [
    "# Binary Search \n",
    "\n",
    "efficiency = O(log n)"
   ]
  },
  {
   "cell_type": "markdown",
   "id": "62f8db27",
   "metadata": {},
   "source": [
    "## Binary Search Practice"
   ]
  },
  {
   "cell_type": "code",
   "execution_count": 18,
   "id": "7c7f3667",
   "metadata": {},
   "outputs": [
    {
     "name": "stdout",
     "output_type": "stream",
     "text": [
      "0 6 3 11 25 [1, 3, 9, 11, 15, 19, 29]\n",
      "4 6 1 19 25 [15, 19, 29]\n",
      "6 6 0 29 25 [29]\n",
      "-1\n",
      "0 6 3 11 15 [1, 3, 9, 11, 15, 19, 29]\n",
      "4 6 1 19 15 [15, 19, 29]\n",
      "4 5 0 15 15 [15]\n",
      "4\n"
     ]
    }
   ],
   "source": [
    "\"\"\"You're going to write a binary search function.\n",
    "You should use an iterative approach - meaning\n",
    "using loops.\n",
    "Your function should take two inputs:\n",
    "a Python list to search through, and the value\n",
    "you're searching for.\n",
    "Assume the list only has distinct elements,\n",
    "meaning there are no repeated values, and \n",
    "elements are in a strictly increasing order.\n",
    "Return the index of value, or -1 if the value\n",
    "doesn't exist in the list.\"\"\"\n",
    "\n",
    "def binary_search(input_array, value):\n",
    "    \"\"\"Your code goes here.\"\"\"\n",
    "    \n",
    "    i = 0\n",
    "    j = len(input_array)-1\n",
    "    temp_array = input_array\n",
    "    \n",
    "    while len(temp_array) > 0:\n",
    "        \n",
    "        middle_index = int(len(temp_array)/2)\n",
    "        middle_index_value = temp_array[middle_index]\n",
    "        \n",
    "        if value == middle_index_value:\n",
    "            if len(temp_array) % 2 == 0:\n",
    "                return i+middle_index-1\n",
    "            else:\n",
    "                return i+middle_index\n",
    "            return middle_index\n",
    "        elif value < middle_index_value:\n",
    "            j = j-middle_index\n",
    "            temp_array = input_array[i:j]\n",
    "        elif value > middle_index_value:\n",
    "            i = i+middle_index+1\n",
    "            temp_array = input_array[i:j+1]\n",
    "\n",
    "    return -1\n",
    "\n",
    "test_list = [1,3,9,11,15,19,29]\n",
    "test_val1 = 25\n",
    "test_val2 = 15\n",
    "print(binary_search(test_list, test_val1))\n",
    "print(binary_search(test_list, test_val2))"
   ]
  },
  {
   "cell_type": "markdown",
   "id": "415bed4e",
   "metadata": {},
   "source": [
    "### Efficient solution"
   ]
  },
  {
   "cell_type": "code",
   "execution_count": 20,
   "id": "de89c1d9",
   "metadata": {},
   "outputs": [
    {
     "name": "stdout",
     "output_type": "stream",
     "text": [
      "-1\n",
      "4\n"
     ]
    }
   ],
   "source": [
    "\"\"\"You're going to write a binary search function.\n",
    "You should use an iterative approach - meaning\n",
    "using loops.\n",
    "Your function should take two inputs:\n",
    "a Python list to search through, and the value\n",
    "you're searching for.\n",
    "Assume the list only has distinct elements,\n",
    "meaning there are no repeated values, and \n",
    "elements are in a strictly increasing order.\n",
    "Return the index of value, or -1 if the value\n",
    "doesn't exist in the list.\"\"\"\n",
    "\n",
    "def binary_search(input_array, value):\n",
    "    \"\"\"Your code goes here.\"\"\"\n",
    "    \n",
    "    i = 0\n",
    "    j = len(input_array)-1\n",
    "    \n",
    "    while i<j:\n",
    "        \n",
    "        mid = int((i+j)/2)\n",
    "        \n",
    "        if input_array[mid] == value:\n",
    "            return mid\n",
    "        elif input_array[mid] > value:\n",
    "            j -= mid\n",
    "        else:\n",
    "            i += mid\n",
    "    return -1\n",
    "\n",
    "test_list = [1,3,9,11,15,19,29]\n",
    "test_val1 = 25\n",
    "test_val2 = 15\n",
    "print(binary_search(test_list, test_val1))\n",
    "print(binary_search(test_list, test_val2))"
   ]
  },
  {
   "cell_type": "code",
   "execution_count": null,
   "id": "8346795f",
   "metadata": {},
   "outputs": [],
   "source": []
  }
 ],
 "metadata": {
  "kernelspec": {
   "display_name": "Python 3",
   "language": "python",
   "name": "python3"
  },
  "language_info": {
   "codemirror_mode": {
    "name": "ipython",
    "version": 3
   },
   "file_extension": ".py",
   "mimetype": "text/x-python",
   "name": "python",
   "nbconvert_exporter": "python",
   "pygments_lexer": "ipython3",
   "version": "3.9.4"
  }
 },
 "nbformat": 4,
 "nbformat_minor": 5
}
