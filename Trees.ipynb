{
 "cells": [
  {
   "cell_type": "markdown",
   "id": "4caf52f0",
   "metadata": {},
   "source": [
    "### Terminologies\n",
    "\n",
    "    Path − Path refers to the sequence of nodes along the edges of a tree.\n",
    "\n",
    "    Root − The node at the top of the tree is called root. There is only one root per tree and one path from the              root node to any node.\n",
    "\n",
    "    Parent − Any node except the root node has one edge upward to a node called parent.\n",
    "\n",
    "    Child − The node below a given node connected by its edge downward is called its child node.\n",
    "\n",
    "    The height of a node is the length of the longest downward path to a leaf from that node.  The height of the           root is the height of the tree\n",
    "\n",
    "    The depth of a node is the length of the path to its root (i.e., its root path)."
   ]
  },
  {
   "cell_type": "code",
   "execution_count": null,
   "id": "ba014550",
   "metadata": {},
   "outputs": [],
   "source": []
  }
 ],
 "metadata": {
  "kernelspec": {
   "display_name": "Python 3",
   "language": "python",
   "name": "python3"
  },
  "language_info": {
   "codemirror_mode": {
    "name": "ipython",
    "version": 3
   },
   "file_extension": ".py",
   "mimetype": "text/x-python",
   "name": "python",
   "nbconvert_exporter": "python",
   "pygments_lexer": "ipython3",
   "version": "3.8.5"
  }
 },
 "nbformat": 4,
 "nbformat_minor": 5
}
